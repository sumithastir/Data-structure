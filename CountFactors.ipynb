{
 "cells": [
  {
   "cell_type": "markdown",
   "id": "9f0dd8a5-aff0-4a6a-b5cd-8dc817fb1394",
   "metadata": {},
   "source": [
    "# < Question > : Given N. Find the count of factors of N. (N > 0)"
   ]
  },
  {
   "cell_type": "markdown",
   "id": "b6c8f760-5578-43c7-aa34-c7fec9746695",
   "metadata": {},
   "source": [
    "# Brute Force Solution\n"
   ]
  },
  {
   "cell_type": "code",
   "execution_count": 18,
   "id": "662b0f2f-87d8-4aef-a9d6-2173984de041",
   "metadata": {},
   "outputs": [
    {
     "data": {
      "text/plain": [
       "8"
      ]
     },
     "execution_count": 18,
     "metadata": {},
     "output_type": "execute_result"
    }
   ],
   "source": [
    "def countfactors(N):\n",
    "    count = 0\n",
    "    for i in range(1, N+1):\n",
    "        \n",
    "        if N % i == 0:\n",
    "            count+=1\n",
    "\n",
    "    return count\n",
    "countfactors(24)"
   ]
  },
  {
   "cell_type": "markdown",
   "id": "0d4f3d56-7c7e-452f-910c-26abc9e6e058",
   "metadata": {},
   "source": [
    "# Optimized Approach"
   ]
  },
  {
   "cell_type": "code",
   "execution_count": 28,
   "id": "1a62eb69-e84f-4cbd-902e-f4e283c39151",
   "metadata": {},
   "outputs": [
    {
     "data": {
      "text/plain": [
       "8"
      ]
     },
     "execution_count": 28,
     "metadata": {},
     "output_type": "execute_result"
    }
   ],
   "source": [
    "def countfactors(N):\n",
    "    count = 0\n",
    "    i = 1\n",
    "    while i*i <=N:\n",
    "        if N % i == 0:\n",
    "            if i == N//i:\n",
    "                count+=1\n",
    "            else:\n",
    "                count+=2\n",
    "        i+=1\n",
    "    return count\n",
    "countfactors(24)"
   ]
  },
  {
   "cell_type": "code",
   "execution_count": null,
   "id": "420a40f7-2f9c-4e6c-aae1-ad24d24ba32f",
   "metadata": {},
   "outputs": [],
   "source": []
  }
 ],
 "metadata": {
  "kernelspec": {
   "display_name": "Python 3 (ipykernel)",
   "language": "python",
   "name": "python3"
  },
  "language_info": {
   "codemirror_mode": {
    "name": "ipython",
    "version": 3
   },
   "file_extension": ".py",
   "mimetype": "text/x-python",
   "name": "python",
   "nbconvert_exporter": "python",
   "pygments_lexer": "ipython3",
   "version": "3.9.6"
  }
 },
 "nbformat": 4,
 "nbformat_minor": 5
}
